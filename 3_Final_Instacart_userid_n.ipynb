{
 "cells": [
  {
   "cell_type": "markdown",
   "metadata": {},
   "source": [
    "# Model to predict items for one unique customer id\n",
    "This notebook encloses the creation of new tables for one randomly selected user, followed by feature engineering (each one explained in the code chuncks), fine tuning the model and running a logistic regression to predict the items that will be in the cart using \"prior\" data to train the model and \"train\" to test it.\n",
    "\n",
    "For the model I am only considering the reorder prediction (based on the products the user have previously bought at least once). It is not accounting for new products.\n",
    "\n"
   ]
  },
  {
   "cell_type": "code",
   "execution_count": 1,
   "metadata": {
    "collapsed": true
   },
   "outputs": [],
   "source": [
    "import pandas as pd\n",
    "import numpy as np\n",
    "import matplotlib.pyplot as plt\n",
    "import seaborn as sns\n",
    "%matplotlib inline"
   ]
  },
  {
   "cell_type": "markdown",
   "metadata": {},
   "source": [
    "#1 Loading the data (different tables)"
   ]
  },
  {
   "cell_type": "code",
   "execution_count": 2,
   "metadata": {
    "collapsed": true
   },
   "outputs": [],
   "source": [
    "aisles = pd.read_csv('./datasets/aisles.csv')\n",
    "order_prior = pd.read_csv('./datasets/order_products__prior.csv')\n",
    "order_train = pd.read_csv('./datasets/order_products__train.csv')\n",
    "orders = pd.read_csv('./datasets/orders.csv')\n",
    "prod1 = pd.read_csv('./datasets/products.csv')\n",
    "dept = pd.read_csv('./datasets/departments.csv')"
   ]
  },
  {
   "cell_type": "markdown",
   "metadata": {},
   "source": [
    "#2 Subsetting the data and merging orders / order_prior / order_train tables as explained in the Data analysis part. Again, eval_set = prior is going to be used for train and eval_set = train for test"
   ]
  },
  {
   "cell_type": "code",
   "execution_count": 3,
   "metadata": {},
   "outputs": [
    {
     "data": {
      "text/plain": [
       "(3421083, 7)"
      ]
     },
     "execution_count": 3,
     "metadata": {},
     "output_type": "execute_result"
    }
   ],
   "source": [
    "orders.shape"
   ]
  },
  {
   "cell_type": "code",
   "execution_count": 4,
   "metadata": {
    "collapsed": true
   },
   "outputs": [],
   "source": [
    "train = orders[orders['eval_set'] == 'prior']\n",
    "test = orders[orders['eval_set'] == 'train']\n",
    "final = orders[orders['eval_set'] == 'test']\n",
    "train = train.merge(order_prior[['add_to_cart_order', 'reordered', 'product_id' ,'order_id']],\\\n",
    "                                left_on = 'order_id', right_on = 'order_id', how = 'inner')\n",
    "test = test.merge(order_train[['add_to_cart_order', 'reordered', 'product_id','order_id']],\\\n",
    "                                left_on = 'order_id', right_on = 'order_id', how = 'inner')\n"
   ]
  },
  {
   "cell_type": "markdown",
   "metadata": {},
   "source": [
    "#3 Creating one big table with train and test data merged data. This big table will be the input for the for loop below that will iterate over each user_id, create a customized table based on feature engineering, run the model and store the results in a list. This list will be extended to all user_id's results so that we can calculate the model accuracy based on this 500 users."
   ]
  },
  {
   "cell_type": "code",
   "execution_count": 5,
   "metadata": {
    "collapsed": true
   },
   "outputs": [],
   "source": [
    "total = pd.concat([train, test], axis=0)\n",
    "total = total.drop('eval_set',1)"
   ]
  },
  {
   "cell_type": "markdown",
   "metadata": {},
   "source": [
    "#4 Creating a new table per user_id to be used in the model"
   ]
  },
  {
   "cell_type": "code",
   "execution_count": 64,
   "metadata": {
    "collapsed": true
   },
   "outputs": [],
   "source": [
    "#randomly selecting the user_id\n",
    "import random\n",
    "foo = total['user_id']\n",
    "n = random.choice(foo)"
   ]
  },
  {
   "cell_type": "markdown",
   "metadata": {},
   "source": [
    "# Code chunck to recreate table based on user id to be used to build and run the model.\n"
   ]
  },
  {
   "cell_type": "code",
   "execution_count": 65,
   "metadata": {},
   "outputs": [
    {
     "name": "stdout",
     "output_type": "stream",
     "text": [
      "156091\n"
     ]
    }
   ],
   "source": [
    "usern = total[total['user_id']==n] #Change n to the user_id you got from the random result\n",
    "products = usern['product_id'].unique() #list of unique products bought by the id\n",
    "orders_id = usern['order_id'].unique() #list of unique orders id bought by the id\n",
    "\n",
    "#creating a list of lists that contains the unique products for the total number of orders\n",
    "#a has lenght of products times number of unique orders.\n",
    "#list_2 has unique products times number of orders\n",
    "a = np.tile(products,(len(orders_id),1))\n",
    "list_1 = [i for sublist in a for i in sublist]\n",
    "list_2 = [[i] * len(products) for i in orders_id]\n",
    "list_2 = [i for sublist in list_2 for i in sublist]\n",
    "\n",
    "#creating a list with the same user id * lenght of list_2 to create the user column in the final\n",
    "#dataframe to be used in the model.\n",
    "user_id = []\n",
    "for i in list_2:\n",
    "    user_id.append(n) \n",
    "    \n",
    "#Creating the first columns of the final table: order id, user id and product id.\n",
    "userntrain = pd.DataFrame(np.column_stack([list_2, user_id, list_1]), \n",
    "                               columns=['order_id', 'user_id', 'product_id'])\n",
    "\n",
    "#Creating reordered column for the data frame: if product has been reordered at least once \n",
    "#it is assigned as 1, else = 0. (Remember we have all products once bought for all orders_id \n",
    "#in this version of data frame, despite the fact they were part of one specific order).\n",
    "userntrain = userntrain.sort_values(['order_id', 'product_id'])\n",
    "userntrain['reordered'] = [i == 0. for i in range(len(userntrain['user_id']))]\n",
    "\n",
    "#Creating order number column by getting unique order numbers based on usern table and merging \n",
    "#with the new table we are creating so we will have the order number repeated by all products\n",
    "number = usern.groupby('order_id')['order_number'].unique().reset_index()\n",
    "number['order_number'] = [i for sublist in number['order_number'] for i in sublist]\n",
    "userntrain = userntrain.merge(number, on='order_id', how='left').sort_values('order_number')\n",
    "\n",
    "#Same we did with to have the column that says if the product was added to the cart\n",
    "#in that specific order. 0 = yes and 1 = no.\n",
    "reor = usern.groupby(['order_id', 'product_id'])['reordered'].sum().reset_index()\n",
    "reor['to_cart'] = [i == 'True' for i in range(len(reor['order_id']))]\n",
    "\n",
    "#merging these new columns with the dataset we are creating\n",
    "temp2 = userntrain\n",
    "temp2 = temp2.merge(reor, how='left', on=['order_id', 'product_id'])\n",
    "temp2.drop('reordered_x', 1, inplace=True)\n",
    "temp2['to_cart'].fillna(True, inplace=True)\n",
    "\n",
    "#Reversing to cart to be 1 = yes and 0 = no.\n",
    "cart = []\n",
    "for i in temp2['to_cart']:\n",
    "    if i == True:\n",
    "        cart.append(False)\n",
    "    else:\n",
    "        cart.append(True)\n",
    "        \n",
    "temp2['to_cart'] = cart\n",
    "temp2['to_cart'].fillna(True, inplace=True)\n",
    "\n",
    "#Same as above for reordered column.\n",
    "r = []\n",
    "for i in temp2['reordered_y']:\n",
    "    if i == 1:\n",
    "        r.append(True)\n",
    "    else:\n",
    "        r.append(False)\n",
    "        \n",
    "temp2['reordered_y'] = r\n",
    "\n",
    "#Creating column that counts days since previous order \n",
    "daysince = usern.groupby(['order_id', 'days_since_prior_order'])['reordered'].sum().reset_index()\n",
    "daysince.drop('reordered', 1, inplace=True)\n",
    "\n",
    "\n",
    "#Creating day of the week order was placed \n",
    "doweek = usern.groupby(['order_id', 'order_dow'])['reordered'].sum().reset_index()\n",
    "doweek.drop('reordered', 1, inplace=True)\n",
    "\n",
    "#Creating hour of day order was placed \n",
    "hod = usern.groupby(['order_id', 'order_hour_of_day'])['reordered'].sum().reset_index()\n",
    "hod.drop('reordered', 1, inplace=True)\n",
    "\n",
    "\n",
    "#adding days since previous, day of week and hour of day to the dataset.\n",
    "temp3 = temp2\n",
    "temp3 = temp3.merge(daysince, how='left', on='order_id')\n",
    "temp3 = temp3.merge(doweek, how='left', on='order_id')\n",
    "temp3 = temp3.merge(hod, how='left', on='order_id')\n",
    "temp3.fillna(999, inplace=True)\n",
    "#Changing boolean to integer\n",
    "temp3['reordered_y'] = temp3['reordered_y']*1\n",
    "temp3['to_cart'] = temp3['to_cart']*1\n",
    "\n",
    "#printing the user we are working with\n",
    "print n"
   ]
  },
  {
   "cell_type": "markdown",
   "metadata": {
    "collapsed": true
   },
   "source": [
    "#5. Modeling"
   ]
  },
  {
   "cell_type": "code",
   "execution_count": 66,
   "metadata": {},
   "outputs": [
    {
     "name": "stdout",
     "output_type": "stream",
     "text": [
      "baseline acc:  0.865196078431\n"
     ]
    }
   ],
   "source": [
    "#Getting baseline\n",
    "baseline_counts = temp2['to_cart'].value_counts().max()/float(len(temp3['to_cart']))\n",
    "print \"baseline acc: \", baseline_counts"
   ]
  },
  {
   "cell_type": "code",
   "execution_count": 67,
   "metadata": {},
   "outputs": [
    {
     "name": "stdout",
     "output_type": "stream",
     "text": [
      "Fitting 5 folds for each of 200 candidates, totalling 1000 fits\n"
     ]
    },
    {
     "name": "stderr",
     "output_type": "stream",
     "text": [
      "[Parallel(n_jobs=1)]: Done 1000 out of 1000 | elapsed:    8.4s finished\n"
     ]
    },
    {
     "name": "stdout",
     "output_type": "stream",
     "text": [
      "0.891503267974\n",
      "{'penalty': 'l1', 'C': 0.097700995729922469, 'solver': 'liblinear'}\n",
      "TP =  11\n",
      "FP =  0\n",
      "TN =  37\n",
      "FN =  3\n",
      "             precision    recall  f1-score   support\n",
      "\n",
      "          0       0.93      1.00      0.96        37\n",
      "          1       1.00      0.79      0.88        14\n",
      "\n",
      "avg / total       0.95      0.94      0.94        51\n",
      "\n"
     ]
    },
    {
     "data": {
      "image/png": "[encoded data removed]",
      "text/plain": [
       "<matplotlib.figure.Figure at 0x10737ed90>"
      ]
     },
     "metadata": {},
     "output_type": "display_data"
    }
   ],
   "source": [
    "#Preparing to run Logistic Regression:\n",
    "import pandas as pd\n",
    "from sklearn.linear_model import LogisticRegression, LogisticRegressionCV\n",
    "from sklearn.model_selection import GridSearchCV\n",
    "import numpy as np\n",
    "\n",
    "#Train / test selection based on table for the unique id.\n",
    "train = temp3[temp3['order_number']!=len(orders_id)] \n",
    "test = temp3[temp3['order_number']==len(orders_id)] \n",
    "\n",
    "#Defining targets and features for train and test\n",
    "y_train = train['to_cart']\n",
    "X_train = train.drop(['to_cart', 'order_id'], 1)\n",
    "y_test = test['to_cart']\n",
    "X_test = test.drop(['to_cart', 'order_id'], 1)\n",
    "\n",
    "#Gridsearching for best parameters\n",
    "gs_params = {\n",
    "    'penalty':['l1','l2'],\n",
    "    'solver':['liblinear'],\n",
    "    'C':np.logspace(-5,0,100)\n",
    "}\n",
    "\n",
    "lr_gridsearch = GridSearchCV(LogisticRegression(), gs_params, cv=5, verbose=1)\n",
    "\n",
    "lr_gridsearch.fit(X_train, y_train)\n",
    "\n",
    "\n",
    "\n",
    "# best score on the training data:\n",
    "print lr_gridsearch.best_score_\n",
    "\n",
    "print lr_gridsearch.best_params_\n",
    "\n",
    "#Running model and making predictions based on best parameters.\n",
    "best_lr = lr_gridsearch.best_estimator_\n",
    "\n",
    "best_lr.fit(X_train, y_train)\n",
    "\n",
    "best_lr.score(X_train, y_train)\n",
    "\n",
    "ypred = best_lr.predict(X_test)\n",
    "yproba = best_lr.predict_proba(X_test)\n",
    "\n",
    "tp = np.sum((y_test == 1) & (ypred == 1))\n",
    "fp = np.sum((y_test == 0) & (ypred == 1))\n",
    "tn = np.sum((y_test == 0) & (ypred == 0))\n",
    "fn = np.sum((y_test == 1) & (ypred == 0))\n",
    "print \"TP = \" , tp\n",
    "print \"FP = \" , fp \n",
    "print \"TN = \" , tn \n",
    "print \"FN = \" , fn\n",
    "\n",
    "\n",
    "from sklearn.metrics import classification_report, confusion_matrix\n",
    "confusion_matrix(y_test, ypred)\n",
    "\n",
    "print classification_report(y_test, ypred)\n",
    "\n",
    "\n",
    "#plotting ROC\n",
    "Y_pp = pd.DataFrame(best_lr.predict_proba(X_test), columns=['class_0_pp','class_1_pp'])\n",
    "Y_pp.head()\n",
    "\n",
    "import matplotlib.pyplot as plt\n",
    "%matplotlib inline\n",
    "from sklearn.metrics import roc_curve, auc\n",
    "fpr, tpr, _ = roc_curve(y_test, Y_pp.class_1_pp)\n",
    "roc_auc = auc(fpr, tpr)\n",
    "\n",
    "\n",
    "plt.figure(figsize=[8,8])\n",
    "plt.plot(fpr, tpr, label='ROC curve (area = %0.2f)' % roc_auc, linewidth=4)\n",
    "plt.plot([0, 1], [0, 1], 'k--', linewidth=4)\n",
    "plt.xlim([-0.05, 1.0])\n",
    "plt.ylim([-0.05, 1.05])\n",
    "plt.xlabel('False Positive Rate', fontsize=18)\n",
    "plt.ylabel('True Positive Rate', fontsize=18)\n",
    "plt.title('Itens_to_cart', fontsize=18)\n",
    "plt.legend(loc=\"lower right\")\n",
    "plt.show()\n",
    "\n"
   ]
  },
  {
   "cell_type": "code",
   "execution_count": 68,
   "metadata": {},
   "outputs": [
    {
     "data": {
      "text/html": [
       "<div>\n",
       "<table border=\"1\" class=\"dataframe\">\n",
       "  <thead>\n",
       "    <tr style=\"text-align: right;\">\n",
       "      <th></th>\n",
       "      <th>abs_coef</th>\n",
       "      <th>coef</th>\n",
       "      <th>variable</th>\n",
       "    </tr>\n",
       "  </thead>\n",
       "  <tbody>\n",
       "    <tr>\n",
       "      <th>3</th>\n",
       "      <td>3.681102</td>\n",
       "      <td>3.681102</td>\n",
       "      <td>reordered_y</td>\n",
       "    </tr>\n",
       "    <tr>\n",
       "      <th>2</th>\n",
       "      <td>0.099549</td>\n",
       "      <td>0.099549</td>\n",
       "      <td>order_number</td>\n",
       "    </tr>\n",
       "    <tr>\n",
       "      <th>5</th>\n",
       "      <td>0.063152</td>\n",
       "      <td>0.063152</td>\n",
       "      <td>order_dow</td>\n",
       "    </tr>\n",
       "    <tr>\n",
       "      <th>6</th>\n",
       "      <td>0.012164</td>\n",
       "      <td>0.012164</td>\n",
       "      <td>order_hour_of_day</td>\n",
       "    </tr>\n",
       "    <tr>\n",
       "      <th>4</th>\n",
       "      <td>0.001426</td>\n",
       "      <td>0.001426</td>\n",
       "      <td>days_since_prior_order</td>\n",
       "    </tr>\n",
       "    <tr>\n",
       "      <th>0</th>\n",
       "      <td>0.000025</td>\n",
       "      <td>-0.000025</td>\n",
       "      <td>user_id</td>\n",
       "    </tr>\n",
       "    <tr>\n",
       "      <th>1</th>\n",
       "      <td>0.000006</td>\n",
       "      <td>0.000006</td>\n",
       "      <td>product_id</td>\n",
       "    </tr>\n",
       "  </tbody>\n",
       "</table>\n",
       "</div>"
      ],
      "text/plain": [
       "   abs_coef      coef                variable\n",
       "3  3.681102  3.681102             reordered_y\n",
       "2  0.099549  0.099549            order_number\n",
       "5  0.063152  0.063152               order_dow\n",
       "6  0.012164  0.012164       order_hour_of_day\n",
       "4  0.001426  0.001426  days_since_prior_order\n",
       "0  0.000025 -0.000025                 user_id\n",
       "1  0.000006  0.000006              product_id"
      ]
     },
     "execution_count": 68,
     "metadata": {},
     "output_type": "execute_result"
    }
   ],
   "source": [
    "best_lr.coef_ = np.ravel(best_lr.coef_)\n",
    "best_coefs = pd.DataFrame({'variable':X_train.columns,\n",
    "                            'coef':best_lr.coef_, 'abs_coef':np.abs(best_lr.coef_)})\n",
    "\n",
    "best_coefs.sort_values('abs_coef', inplace=True, ascending=False)\n",
    "\n",
    "best_coefs"
   ]
  },
  {
   "cell_type": "code",
   "execution_count": 69,
   "metadata": {},
   "outputs": [
    {
     "data": {
      "text/html": [
       "<div>\n",
       "<table border=\"1\" class=\"dataframe\">\n",
       "  <thead>\n",
       "    <tr style=\"text-align: right;\">\n",
       "      <th></th>\n",
       "      <th>Predicted added</th>\n",
       "      <th>Predicted not added</th>\n",
       "    </tr>\n",
       "  </thead>\n",
       "  <tbody>\n",
       "    <tr>\n",
       "      <th>added to cart</th>\n",
       "      <td>11</td>\n",
       "      <td>3</td>\n",
       "    </tr>\n",
       "    <tr>\n",
       "      <th>not added to cart</th>\n",
       "      <td>0</td>\n",
       "      <td>37</td>\n",
       "    </tr>\n",
       "  </tbody>\n",
       "</table>\n",
       "</div>"
      ],
      "text/plain": [
       "                   Predicted added  Predicted not added\n",
       "added to cart                   11                    3\n",
       "not added to cart                0                   37"
      ]
     },
     "execution_count": 69,
     "metadata": {},
     "output_type": "execute_result"
    }
   ],
   "source": [
    "conmat = np.array(confusion_matrix(y_test, ypred, labels=[1,0]))\n",
    "\n",
    "confusion = pd.DataFrame(conmat, index=['added to cart', 'not added to cart'],\n",
    "                         columns=['Predicted added','Predicted not added'])\n",
    "confusion"
   ]
  },
  {
   "cell_type": "code",
   "execution_count": 70,
   "metadata": {},
   "outputs": [
    {
     "data": {
      "text/html": [
       "<div>\n",
       "<table border=\"1\" class=\"dataframe\">\n",
       "  <thead>\n",
       "    <tr style=\"text-align: right;\">\n",
       "      <th></th>\n",
       "      <th>feature</th>\n",
       "      <th>f_classif</th>\n",
       "      <th>chi2 score</th>\n",
       "    </tr>\n",
       "  </thead>\n",
       "  <tbody>\n",
       "    <tr>\n",
       "      <th>3</th>\n",
       "      <td>reordered_y</td>\n",
       "      <td>667.251</td>\n",
       "      <td>334.5</td>\n",
       "    </tr>\n",
       "    <tr>\n",
       "      <th>2</th>\n",
       "      <td>order_number</td>\n",
       "      <td>14.5939</td>\n",
       "      <td>33.5009</td>\n",
       "    </tr>\n",
       "    <tr>\n",
       "      <th>6</th>\n",
       "      <td>order_hour_of_day</td>\n",
       "      <td>4.29347</td>\n",
       "      <td>2.0985</td>\n",
       "    </tr>\n",
       "    <tr>\n",
       "      <th>5</th>\n",
       "      <td>order_dow</td>\n",
       "      <td>3.10193</td>\n",
       "      <td>4.95595</td>\n",
       "    </tr>\n",
       "    <tr>\n",
       "      <th>1</th>\n",
       "      <td>product_id</td>\n",
       "      <td>1.73204</td>\n",
       "      <td>19763.2</td>\n",
       "    </tr>\n",
       "    <tr>\n",
       "      <th>4</th>\n",
       "      <td>days_since_prior_order</td>\n",
       "      <td>0.668135</td>\n",
       "      <td>521.066</td>\n",
       "    </tr>\n",
       "    <tr>\n",
       "      <th>0</th>\n",
       "      <td>user_id</td>\n",
       "      <td>NaN</td>\n",
       "      <td>0</td>\n",
       "    </tr>\n",
       "  </tbody>\n",
       "</table>\n",
       "</div>"
      ],
      "text/plain": [
       "                  feature f_classif chi2 score\n",
       "3             reordered_y   667.251      334.5\n",
       "2            order_number   14.5939    33.5009\n",
       "6       order_hour_of_day   4.29347     2.0985\n",
       "5               order_dow   3.10193    4.95595\n",
       "1              product_id   1.73204    19763.2\n",
       "4  days_since_prior_order  0.668135    521.066\n",
       "0                 user_id       NaN          0"
      ]
     },
     "execution_count": 70,
     "metadata": {},
     "output_type": "execute_result"
    }
   ],
   "source": [
    "from sklearn.feature_selection import SelectKBest, chi2, f_classif\n",
    "\n",
    "# build the selector (we'll build one with each score type)\n",
    "skb_f = SelectKBest(f_classif, k=5)\n",
    "skb_chi2 = SelectKBest(chi2, k=5)\n",
    "\n",
    "# train the selector on our data\n",
    "skb_f.fit(X_train, y_train)\n",
    "skb_chi2.fit(X_train, y_train)\n",
    "\n",
    "# examine results\n",
    "cols = X_train.columns\n",
    "kbest = pd.DataFrame([cols, list(skb_f.scores_), list(skb_chi2.scores_)], \n",
    "                     index=['feature','f_classif','chi2 score']).T.sort_values('f_classif', ascending=False)\n",
    "kbest"
   ]
  },
  {
   "cell_type": "markdown",
   "metadata": {},
   "source": [
    "# Building Ensemble Models to check if they perform better"
   ]
  },
  {
   "cell_type": "code",
   "execution_count": 71,
   "metadata": {
    "collapsed": true
   },
   "outputs": [],
   "source": [
    "#Trying Decision Trees, Random Forest and Gradient Boosting to compare model results\n",
    "from sklearn.model_selection import cross_val_score, StratifiedKFold, GridSearchCV\n",
    "from sklearn.tree import DecisionTreeClassifier\n",
    "from sklearn.ensemble import RandomForestClassifier, ExtraTreesClassifier, BaggingClassifier, GradientBoostingClassifier\n",
    "\n",
    "cv = StratifiedKFold(n_splits=3, random_state=21, shuffle=True)"
   ]
  },
  {
   "cell_type": "code",
   "execution_count": 72,
   "metadata": {},
   "outputs": [
    {
     "data": {
      "text/plain": [
       "0.90065359477124185"
      ]
     },
     "execution_count": 72,
     "metadata": {},
     "output_type": "execute_result"
    }
   ],
   "source": [
    "rf = RandomForestClassifier()\n",
    "cross_val_score(rf, X_train, y_train, cv=cv).mean()"
   ]
  },
  {
   "cell_type": "code",
   "execution_count": 73,
   "metadata": {},
   "outputs": [
    {
     "data": {
      "text/plain": [
       "0.92679738562091496"
      ]
     },
     "execution_count": 73,
     "metadata": {},
     "output_type": "execute_result"
    }
   ],
   "source": [
    "grad = GradientBoostingClassifier()\n",
    "cross_val_score(grad, X_train, y_train, cv=cv).mean()"
   ]
  },
  {
   "cell_type": "code",
   "execution_count": 74,
   "metadata": {
    "collapsed": true
   },
   "outputs": [],
   "source": [
    "rf_params = {'n_estimators':[10, 25, 50], 'max_depth': [3, 5, 10, None], 'min_samples_split': [2, 5, 10]}"
   ]
  },
  {
   "cell_type": "code",
   "execution_count": 75,
   "metadata": {},
   "outputs": [
    {
     "name": "stdout",
     "output_type": "stream",
     "text": [
      "Fitting 3 folds for each of 36 candidates, totalling 108 fits\n"
     ]
    },
    {
     "name": "stderr",
     "output_type": "stream",
     "text": [
      "[Parallel(n_jobs=1)]: Done 108 out of 108 | elapsed:   18.6s finished\n"
     ]
    },
    {
     "data": {
      "text/plain": [
       "GridSearchCV(cv=StratifiedKFold(n_splits=3, random_state=21, shuffle=True),\n",
       "       error_score='raise',\n",
       "       estimator=RandomForestClassifier(bootstrap=True, class_weight=None, criterion='gini',\n",
       "            max_depth=None, max_features='auto', max_leaf_nodes=None,\n",
       "            min_impurity_split=1e-07, min_samples_leaf=1,\n",
       "            min_samples_split=2, min_weight_fraction_leaf=0.0,\n",
       "            n_estimators=10, n_jobs=1, oob_score=False, random_state=None,\n",
       "            verbose=0, warm_start=False),\n",
       "       fit_params={}, iid=True, n_jobs=1,\n",
       "       param_grid={'n_estimators': [10, 25, 50], 'min_samples_split': [2, 5, 10], 'max_depth': [3, 5, 10, None]},\n",
       "       pre_dispatch='2*n_jobs', refit=True, return_train_score=True,\n",
       "       scoring=None, verbose=1)"
      ]
     },
     "execution_count": 75,
     "metadata": {},
     "output_type": "execute_result"
    }
   ],
   "source": [
    "grid_rf = GridSearchCV(rf, param_grid=rf_params, verbose=1, cv=cv)\n",
    "grid_rf.fit(X_train,y_train)"
   ]
  },
  {
   "cell_type": "code",
   "execution_count": 76,
   "metadata": {},
   "outputs": [
    {
     "data": {
      "text/plain": [
       "0.93725490196078431"
      ]
     },
     "execution_count": 76,
     "metadata": {},
     "output_type": "execute_result"
    }
   ],
   "source": [
    "grid_rf.best_score_"
   ]
  },
  {
   "cell_type": "code",
   "execution_count": 77,
   "metadata": {
    "collapsed": true
   },
   "outputs": [],
   "source": [
    "grad_params = {\"max_depth\" : [3, 5, 10, 25, None],\n",
    "              'min_samples_split': [2, 5, 10],\n",
    "              \"n_estimators\": [10, 25, 50], 'learning_rate':[0.5, 1]\n",
    "             }"
   ]
  },
  {
   "cell_type": "code",
   "execution_count": 78,
   "metadata": {},
   "outputs": [
    {
     "name": "stdout",
     "output_type": "stream",
     "text": [
      "Fitting 3 folds for each of 90 candidates, totalling 270 fits\n"
     ]
    },
    {
     "name": "stderr",
     "output_type": "stream",
     "text": [
      "[Parallel(n_jobs=1)]: Done 270 out of 270 | elapsed:   14.0s finished\n"
     ]
    },
    {
     "data": {
      "text/plain": [
       "GridSearchCV(cv=StratifiedKFold(n_splits=3, random_state=21, shuffle=True),\n",
       "       error_score='raise',\n",
       "       estimator=GradientBoostingClassifier(criterion='friedman_mse', init=None,\n",
       "              learning_rate=0.1, loss='deviance', max_depth=3,\n",
       "              max_features=None, max_leaf_nodes=None,\n",
       "              min_impurity_split=1e-07, min_samples_leaf=1,\n",
       "              min_samples_split=2, min_weight_fraction_leaf=0.0,\n",
       "              n_estimators=100, presort='auto', random_state=None,\n",
       "              subsample=1.0, verbose=0, warm_start=False),\n",
       "       fit_params={}, iid=True, n_jobs=1,\n",
       "       param_grid={'min_samples_split': [2, 5, 10], 'n_estimators': [10, 25, 50], 'learning_rate': [0.5, 1], 'max_depth': [3, 5, 10, 25, None]},\n",
       "       pre_dispatch='2*n_jobs', refit=True, return_train_score=True,\n",
       "       scoring=None, verbose=1)"
      ]
     },
     "execution_count": 78,
     "metadata": {},
     "output_type": "execute_result"
    }
   ],
   "source": [
    "grad = GradientBoostingClassifier()\n",
    "\n",
    "grid_grad = GridSearchCV(grad, param_grid=grad_params, verbose=1, cv=cv)\n",
    "grid_grad.fit(X_train,y_train)"
   ]
  },
  {
   "cell_type": "code",
   "execution_count": 79,
   "metadata": {},
   "outputs": [
    {
     "data": {
      "text/plain": [
       "0.92679738562091507"
      ]
     },
     "execution_count": 79,
     "metadata": {},
     "output_type": "execute_result"
    }
   ],
   "source": [
    "grid_grad.best_score_\n"
   ]
  },
  {
   "cell_type": "code",
   "execution_count": 80,
   "metadata": {},
   "outputs": [
    {
     "data": {
      "text/plain": [
       "{'learning_rate': 0.5,\n",
       " 'max_depth': 3,\n",
       " 'min_samples_split': 2,\n",
       " 'n_estimators': 10}"
      ]
     },
     "execution_count": 80,
     "metadata": {},
     "output_type": "execute_result"
    }
   ],
   "source": [
    "grid_grad.best_params_"
   ]
  },
  {
   "cell_type": "code",
   "execution_count": 81,
   "metadata": {},
   "outputs": [
    {
     "name": "stdout",
     "output_type": "stream",
     "text": [
      "TP =  11\n",
      "FP =  1\n",
      "TN =  36\n",
      "FN =  3\n"
     ]
    }
   ],
   "source": [
    "grad_best = grid_grad.best_estimator_\n",
    "grad_best.fit(X_train, y_train)\n",
    "\n",
    "grad_best.score(X_train, y_train)\n",
    "\n",
    "ypred = grad_best.predict(X_test)\n",
    "yproba = grad_best.predict_proba(X_test)\n",
    "\n",
    "tp = np.sum((y_test == 1) & (ypred == 1))\n",
    "fp = np.sum((y_test == 0) & (ypred == 1))\n",
    "tn = np.sum((y_test == 0) & (ypred == 0))\n",
    "fn = np.sum((y_test == 1) & (ypred == 0))\n",
    "print \"TP = \" , tp\n",
    "print \"FP = \" , fp \n",
    "print \"TN = \" , tn \n",
    "print \"FN = \" , fn"
   ]
  },
  {
   "cell_type": "markdown",
   "metadata": {},
   "source": [
    "## Based on results I will stick to logistic regression to build the model that accepts multiple Ids and average the results."
   ]
  },
  {
   "cell_type": "code",
   "execution_count": null,
   "metadata": {
    "collapsed": true
   },
   "outputs": [],
   "source": []
  }
 ],
 "metadata": {
  "kernelspec": {
   "display_name": "Python 2",
   "language": "python",
   "name": "python2"
  },
  "language_info": {
   "codemirror_mode": {
    "name": "ipython",
    "version": 2
   },
   "file_extension": ".py",
   "mimetype": "text/x-python",
   "name": "python",
   "nbconvert_exporter": "python",
   "pygments_lexer": "ipython2",
   "version": "2.7.13"
  }
 },
 "nbformat": 4,
 "nbformat_minor": 2
}
